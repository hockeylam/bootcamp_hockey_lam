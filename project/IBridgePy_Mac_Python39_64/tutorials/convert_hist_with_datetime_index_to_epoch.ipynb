{
 "cells": [
  {
   "cell_type": "code",
   "execution_count": 1,
   "metadata": {},
   "outputs": [],
   "source": [
    "import os\n",
    "import sys\n",
    "sys.path.append(os.path.join(os.getcwd(), '..'))"
   ]
  },
  {
   "cell_type": "code",
   "execution_count": 2,
   "metadata": {},
   "outputs": [],
   "source": [
    "from trader_factory import build_active_IBridgePy_plus"
   ]
  },
  {
   "cell_type": "code",
   "execution_count": 3,
   "metadata": {},
   "outputs": [
    {
     "name": "stdout",
     "output_type": "stream",
     "text": [
      "Try to get connected to Interactive Brokers\n",
      "Connected to Interactive Brokers\n",
      "##    ACCOUNT Balance  DU1868499  ##\n",
      "CASH=1310497.77\n",
      "portfolio_value=1310784.78\n",
      "positions_value=0.0\n",
      "##    NO ANY POSITION    ##\n",
      "##    NO any order    ##\n"
     ]
    }
   ],
   "source": [
    "t = build_active_IBridgePy_plus('DU1868499')  # Create an IBridgePy_plus instance"
   ]
  },
  {
   "cell_type": "code",
   "execution_count": 4,
   "metadata": {},
   "outputs": [],
   "source": [
    "from IBridgePy.IbridgepyTools import symbol"
   ]
  },
  {
   "cell_type": "code",
   "execution_count": 6,
   "metadata": {},
   "outputs": [],
   "source": [
    "# Get historical data of SPY, daily bar, go back 5 days\n",
    "hist = t.request_historical_data(symbol('SPY'), '1 day', '20 Y')"
   ]
  },
  {
   "cell_type": "code",
   "execution_count": 7,
   "metadata": {},
   "outputs": [
    {
     "data": {
      "text/html": [
       "<div>\n",
       "<style scoped>\n",
       "    .dataframe tbody tr th:only-of-type {\n",
       "        vertical-align: middle;\n",
       "    }\n",
       "\n",
       "    .dataframe tbody tr th {\n",
       "        vertical-align: top;\n",
       "    }\n",
       "\n",
       "    .dataframe thead th {\n",
       "        text-align: right;\n",
       "    }\n",
       "</style>\n",
       "<table border=\"1\" class=\"dataframe\">\n",
       "  <thead>\n",
       "    <tr style=\"text-align: right;\">\n",
       "      <th></th>\n",
       "      <th>index</th>\n",
       "      <th>open</th>\n",
       "      <th>high</th>\n",
       "      <th>low</th>\n",
       "      <th>close</th>\n",
       "      <th>volume</th>\n",
       "    </tr>\n",
       "    <tr>\n",
       "      <th>timestamp</th>\n",
       "      <th></th>\n",
       "      <th></th>\n",
       "      <th></th>\n",
       "      <th></th>\n",
       "      <th></th>\n",
       "      <th></th>\n",
       "    </tr>\n",
       "  </thead>\n",
       "  <tbody>\n",
       "    <tr>\n",
       "      <th>2005-04-10 20:00:00-04:00</th>\n",
       "      <td>1113177600</td>\n",
       "      <td>118.29</td>\n",
       "      <td>118.42</td>\n",
       "      <td>117.83</td>\n",
       "      <td>118.09</td>\n",
       "      <td>39861300</td>\n",
       "    </tr>\n",
       "    <tr>\n",
       "      <th>2005-04-11 20:00:00-04:00</th>\n",
       "      <td>1113264000</td>\n",
       "      <td>117.89</td>\n",
       "      <td>119.06</td>\n",
       "      <td>117.07</td>\n",
       "      <td>118.70</td>\n",
       "      <td>83390500</td>\n",
       "    </tr>\n",
       "    <tr>\n",
       "      <th>2005-04-12 20:00:00-04:00</th>\n",
       "      <td>1113350400</td>\n",
       "      <td>118.56</td>\n",
       "      <td>118.80</td>\n",
       "      <td>117.13</td>\n",
       "      <td>117.35</td>\n",
       "      <td>62623000</td>\n",
       "    </tr>\n",
       "    <tr>\n",
       "      <th>2005-04-13 20:00:00-04:00</th>\n",
       "      <td>1113436800</td>\n",
       "      <td>117.42</td>\n",
       "      <td>118.85</td>\n",
       "      <td>115.78</td>\n",
       "      <td>115.81</td>\n",
       "      <td>91462400</td>\n",
       "    </tr>\n",
       "    <tr>\n",
       "      <th>2005-04-14 20:00:00-04:00</th>\n",
       "      <td>1113523200</td>\n",
       "      <td>115.74</td>\n",
       "      <td>116.82</td>\n",
       "      <td>114.10</td>\n",
       "      <td>114.18</td>\n",
       "      <td>115231000</td>\n",
       "    </tr>\n",
       "    <tr>\n",
       "      <th>...</th>\n",
       "      <td>...</td>\n",
       "      <td>...</td>\n",
       "      <td>...</td>\n",
       "      <td>...</td>\n",
       "      <td>...</td>\n",
       "      <td>...</td>\n",
       "    </tr>\n",
       "    <tr>\n",
       "      <th>2025-03-30 20:00:00-04:00</th>\n",
       "      <td>1743379200</td>\n",
       "      <td>549.82</td>\n",
       "      <td>560.72</td>\n",
       "      <td>546.87</td>\n",
       "      <td>559.39</td>\n",
       "      <td>50756979</td>\n",
       "    </tr>\n",
       "    <tr>\n",
       "      <th>2025-03-31 20:00:00-04:00</th>\n",
       "      <td>1743465600</td>\n",
       "      <td>557.45</td>\n",
       "      <td>562.94</td>\n",
       "      <td>553.68</td>\n",
       "      <td>560.97</td>\n",
       "      <td>35011067</td>\n",
       "    </tr>\n",
       "    <tr>\n",
       "      <th>2025-04-01 20:00:00-04:00</th>\n",
       "      <td>1743552000</td>\n",
       "      <td>555.05</td>\n",
       "      <td>567.42</td>\n",
       "      <td>554.81</td>\n",
       "      <td>564.52</td>\n",
       "      <td>35394053</td>\n",
       "    </tr>\n",
       "    <tr>\n",
       "      <th>2025-04-02 20:00:00-04:00</th>\n",
       "      <td>1743638400</td>\n",
       "      <td>545.11</td>\n",
       "      <td>547.97</td>\n",
       "      <td>536.70</td>\n",
       "      <td>536.70</td>\n",
       "      <td>74101279</td>\n",
       "    </tr>\n",
       "    <tr>\n",
       "      <th>2025-04-03 20:00:00-04:00</th>\n",
       "      <td>1743724800</td>\n",
       "      <td>523.73</td>\n",
       "      <td>525.87</td>\n",
       "      <td>505.06</td>\n",
       "      <td>505.28</td>\n",
       "      <td>128630868</td>\n",
       "    </tr>\n",
       "  </tbody>\n",
       "</table>\n",
       "<p>5029 rows × 6 columns</p>\n",
       "</div>"
      ],
      "text/plain": [
       "                                index    open    high     low   close  \\\n",
       "timestamp                                                               \n",
       "2005-04-10 20:00:00-04:00  1113177600  118.29  118.42  117.83  118.09   \n",
       "2005-04-11 20:00:00-04:00  1113264000  117.89  119.06  117.07  118.70   \n",
       "2005-04-12 20:00:00-04:00  1113350400  118.56  118.80  117.13  117.35   \n",
       "2005-04-13 20:00:00-04:00  1113436800  117.42  118.85  115.78  115.81   \n",
       "2005-04-14 20:00:00-04:00  1113523200  115.74  116.82  114.10  114.18   \n",
       "...                               ...     ...     ...     ...     ...   \n",
       "2025-03-30 20:00:00-04:00  1743379200  549.82  560.72  546.87  559.39   \n",
       "2025-03-31 20:00:00-04:00  1743465600  557.45  562.94  553.68  560.97   \n",
       "2025-04-01 20:00:00-04:00  1743552000  555.05  567.42  554.81  564.52   \n",
       "2025-04-02 20:00:00-04:00  1743638400  545.11  547.97  536.70  536.70   \n",
       "2025-04-03 20:00:00-04:00  1743724800  523.73  525.87  505.06  505.28   \n",
       "\n",
       "                              volume  \n",
       "timestamp                             \n",
       "2005-04-10 20:00:00-04:00   39861300  \n",
       "2005-04-11 20:00:00-04:00   83390500  \n",
       "2005-04-12 20:00:00-04:00   62623000  \n",
       "2005-04-13 20:00:00-04:00   91462400  \n",
       "2005-04-14 20:00:00-04:00  115231000  \n",
       "...                              ...  \n",
       "2025-03-30 20:00:00-04:00   50756979  \n",
       "2025-03-31 20:00:00-04:00   35011067  \n",
       "2025-04-01 20:00:00-04:00   35394053  \n",
       "2025-04-02 20:00:00-04:00   74101279  \n",
       "2025-04-03 20:00:00-04:00  128630868  \n",
       "\n",
       "[5029 rows x 6 columns]"
      ]
     },
     "execution_count": 7,
     "metadata": {},
     "output_type": "execute_result"
    }
   ],
   "source": [
    "hist"
   ]
  },
  {
   "cell_type": "code",
   "execution_count": null,
   "metadata": {},
   "outputs": [],
   "source": [
    "type(hist.index[-1])  # The type should be datetime.date"
   ]
  },
  {
   "cell_type": "code",
   "execution_count": null,
   "metadata": {},
   "outputs": [],
   "source": [
    "from tools.hist_converter import convert_hist_using_datetime_to_epoch"
   ]
  },
  {
   "cell_type": "code",
   "execution_count": null,
   "metadata": {},
   "outputs": [],
   "source": [
    "converted = convert_hist_using_datetime_to_epoch(hist)"
   ]
  },
  {
   "cell_type": "code",
   "execution_count": null,
   "metadata": {},
   "outputs": [],
   "source": [
    "type(converted.index[-1])  # The type should be numpy.int64"
   ]
  },
  {
   "cell_type": "code",
   "execution_count": null,
   "metadata": {},
   "outputs": [],
   "source": [
    "converted"
   ]
  },
  {
   "cell_type": "code",
   "execution_count": null,
   "metadata": {},
   "outputs": [],
   "source": [
    "converted.to_csv(os.path.join(os.getcwd(), '..', 'Output', 'myHist.csv'))"
   ]
  },
  {
   "cell_type": "code",
   "execution_count": 8,
   "metadata": {},
   "outputs": [],
   "source": [
    "hist.to_csv(os.path.join(os.getcwd(), '..', 'Input', 'SPY_new.csv'))"
   ]
  },
  {
   "cell_type": "code",
   "execution_count": null,
   "metadata": {},
   "outputs": [],
   "source": []
  }
 ],
 "metadata": {
  "kernelspec": {
   "display_name": "Python 3 (ipykernel)",
   "language": "python",
   "name": "python3"
  },
  "language_info": {
   "codemirror_mode": {
    "name": "ipython",
    "version": 3
   },
   "file_extension": ".py",
   "mimetype": "text/x-python",
   "name": "python",
   "nbconvert_exporter": "python",
   "pygments_lexer": "ipython3",
   "version": "3.9.20"
  }
 },
 "nbformat": 4,
 "nbformat_minor": 4
}
