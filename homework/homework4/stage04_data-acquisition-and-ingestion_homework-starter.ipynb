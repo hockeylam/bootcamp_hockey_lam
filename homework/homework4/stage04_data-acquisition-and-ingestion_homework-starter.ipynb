{
 "cells": [
  {
   "cell_type": "code",
   "execution_count": 1,
   "id": "fc36ff8d-9f12-46fe-a49a-906974194029",
   "metadata": {},
   "outputs": [],
   "source": [
    "import os, json, time, datetime as dt, csv, pathlib\n",
    "import requests\n",
    "import pandas as pd\n",
    "from bs4 import BeautifulSoup\n",
    "from dotenv import load_dotenv"
   ]
  },
  {
   "cell_type": "code",
   "execution_count": 2,
   "id": "d68740ed-333e-411d-8dd7-cddb18646391",
   "metadata": {},
   "outputs": [],
   "source": [
    "from src.utils import validate_df, alphavantage, safe_filename"
   ]
  },
  {
   "cell_type": "code",
   "execution_count": 3,
   "id": "cae0c7d2-ad48-4f52-aa04-55cdca71c5e4",
   "metadata": {},
   "outputs": [
    {
     "name": "stdout",
     "output_type": "stream",
     "text": [
      "Loaded ALPHAVANTAGE_API_KEY? True\n"
     ]
    }
   ],
   "source": [
    "DATA_RAW = pathlib.Path(\"data/raw\")\n",
    "DATA_RAW.mkdir(parents=True, exist_ok=True)\n",
    "\n",
    "\n",
    "#alphavantage api key stored in .env\n",
    "load_dotenv()\n",
    "ALPHA_KEY = os.getenv(\"ALPHAVANTAGE_API_KEY\")\n",
    "print(\"Loaded ALPHAVANTAGE_API_KEY?\", bool(ALPHA_KEY))"
   ]
  },
  {
   "cell_type": "code",
   "execution_count": 4,
   "id": "d36a0be2-48ea-4e3a-8fdd-a1eb4d333459",
   "metadata": {},
   "outputs": [
    {
     "name": "stdout",
     "output_type": "stream",
     "text": [
      "Using Alpha Vantage: True\n"
     ]
    }
   ],
   "source": [
    "SYMBOL = \"SPY\"\n",
    "use_alpha = bool(ALPHA_KEY)\n",
    "print(\"Using Alpha Vantage:\", use_alpha)\n",
    "\n",
    "df_api = alphavantage(SYMBOL, ALPHA_KEY)\n"
   ]
  },
  {
   "cell_type": "code",
   "execution_count": 5,
   "id": "8b912932-54bd-4695-92c5-3ecaeac3b35e",
   "metadata": {},
   "outputs": [
    {
     "name": "stdout",
     "output_type": "stream",
     "text": [
      "{'na_total': 'Total NA values: 0'}\n",
      "Saved: data/raw/api_source-alpha_symbol-SPY_20250816-142418.csv\n"
     ]
    }
   ],
   "source": [
    "df_api = df_api.sort_values('date').reset_index(drop=True)\n",
    "msgs = validate_df(df_api, required_cols=['date','adj_close'], dtypes_map={'date':'datetime64[ns]','adj_close':'float'})\n",
    "print(msgs)\n",
    "\n",
    "fname = safe_filename(prefix=\"api\", meta={\"source\": \"alpha\" if use_alpha else \"yfinance\", \"symbol\": SYMBOL})\n",
    "out_path = DATA_RAW / fname\n",
    "df_api.to_csv(out_path, index=False)\n",
    "print(\"Saved:\", out_path)"
   ]
  },
  {
   "cell_type": "code",
   "execution_count": null,
   "id": "b48715c0-5f12-4ef1-8a1d-f0d546eed949",
   "metadata": {},
   "outputs": [],
   "source": []
  },
  {
   "cell_type": "code",
   "execution_count": null,
   "id": "73c07bee-9031-44e5-b31f-032ffa03f5e4",
   "metadata": {},
   "outputs": [],
   "source": []
  },
  {
   "cell_type": "code",
   "execution_count": null,
   "id": "87eea3b5-9aa5-452b-98bf-c134a4cc7d6c",
   "metadata": {},
   "outputs": [],
   "source": []
  }
 ],
 "metadata": {
  "kernelspec": {
   "display_name": "Python 3 (ipykernel)",
   "language": "python",
   "name": "python3"
  },
  "language_info": {
   "codemirror_mode": {
    "name": "ipython",
    "version": 3
   },
   "file_extension": ".py",
   "mimetype": "text/x-python",
   "name": "python",
   "nbconvert_exporter": "python",
   "pygments_lexer": "ipython3",
   "version": "3.11.13"
  }
 },
 "nbformat": 4,
 "nbformat_minor": 5
}
