{
 "cells": [
  {
   "cell_type": "code",
   "execution_count": 24,
   "id": "b0a3369a-d3bd-4cf8-887a-e1df461d961c",
   "metadata": {},
   "outputs": [],
   "source": [
    "import sys\n",
    "import yfinance as yf\n",
    "import pandas as pd\n",
    "import matplotlib.pyplot as plt"
   ]
  },
  {
   "cell_type": "code",
   "execution_count": 25,
   "id": "9c488a3b-8d28-4bdb-9a1a-03dfc024edb6",
   "metadata": {},
   "outputs": [],
   "source": [
    "def get_data(ticker: str, interval: str = '1d', lookback_days: int = 756) -> pd.DataFrame:\n",
    "    \"\"\"\n",
    "    Loads historical market data using yfinance.\n",
    "    ticker (str): Stock or ETF symbol (e.g., 'SPY')\n",
    "    interval (str): Data interval ('1d', '1h', '1m', etc.)\n",
    "    lookback_days (int): Number of trading days to retrieve (capped at 7 if interval is one minute)\n",
    "\n",
    "    Returns: pd.DataFrame: DataFrame downloaded from yfinance\n",
    "    \"\"\"\n",
    "    if interval in ['1d', '1h']:\n",
    "        period = str(lookback_days)+\"d\"\n",
    "    elif interval == '1m':\n",
    "        period = \"7d\"  \n",
    "    else:\n",
    "        raise ValueError(\"Unsupported interval for free data\")\n",
    "    df = yf.download(ticker, period=period, interval=interval, progress=False)\n",
    "    df.columns = [col[0] if isinstance(col, tuple) else col for col in df.columns]\n",
    "    df = df.dropna()\n",
    "    df = df.rename(columns=str.lower)\n",
    "    df.index.name = 'datetime'\n",
    "\n",
    "    return df"
   ]
  },
  {
   "cell_type": "code",
   "execution_count": 26,
   "id": "0cc66b74-6a90-4d7a-ae57-1475e10968a7",
   "metadata": {},
   "outputs": [
    {
     "name": "stderr",
     "output_type": "stream",
     "text": [
      "/var/folders/sk/xk40gf9n2q3bhq2s90436ctr0000gn/T/ipykernel_36365/4255546963.py:16: FutureWarning: YF.download() has changed argument auto_adjust default to True\n",
      "  df = yf.download(ticker, period=period, interval=interval, progress=False)\n"
     ]
    },
    {
     "name": "stdout",
     "output_type": "stream",
     "text": [
      "<class 'pandas.core.frame.DataFrame'>\n",
      "DatetimeIndex: 756 entries, 2022-08-18 to 2025-08-22\n",
      "Data columns (total 5 columns):\n",
      " #   Column  Non-Null Count  Dtype  \n",
      "---  ------  --------------  -----  \n",
      " 0   close   756 non-null    float64\n",
      " 1   high    756 non-null    float64\n",
      " 2   low     756 non-null    float64\n",
      " 3   open    756 non-null    float64\n",
      " 4   volume  756 non-null    int64  \n",
      "dtypes: float64(4), int64(1)\n",
      "memory usage: 35.4 KB\n",
      "                 close        high         low        open    volume\n",
      "datetime                                                            \n",
      "2022-08-18  410.099396  410.789432  407.808752  409.112193  49023200\n",
      "2022-08-19  404.588501  407.578775  403.706739  407.310417  68016900\n",
      "2022-08-22  396.163910  399.882594  395.253397  399.710055  77695600\n",
      "2022-08-23  395.205536  398.147900  394.649634  395.732657  49105200\n",
      "2022-08-24  396.470673  397.850774  394.285470  394.975507  49177800\n",
      "            close        high         low        open        volume\n",
      "count  756.000000  756.000000  756.000000  756.000000  7.560000e+02\n",
      "mean   486.802166  489.329171  483.833639  486.670228  7.175272e+07\n",
      "std     85.064075   85.068209   84.883679   85.067588  2.678291e+07\n",
      "min    343.138885  346.276187  335.006888  336.065490  2.604870e+07\n",
      "25%    403.263405  406.087638  402.122941  403.280575  5.426795e+07\n",
      "50%    491.743210  493.224270  487.904348  490.081984  6.912355e+07\n",
      "75%    563.629562  566.604597  560.836755  564.100577  8.567500e+07\n",
      "max    645.309998  646.500000  642.679993  645.989990  2.566114e+08\n"
     ]
    }
   ],
   "source": [
    "df = get_data(\"SPY\",\"1d\",756)\n",
    "df.info()\n",
    "print(df.head())\n",
    "print(df.describe())"
   ]
  },
  {
   "cell_type": "code",
   "execution_count": 29,
   "id": "df9dc4f6-eb5e-4cd6-98bd-309fbfc726d1",
   "metadata": {},
   "outputs": [],
   "source": [
    "#feature engineering\n",
    "\n",
    "# change from previous close (close - close the day before) -->float\n",
    "df['change'] = df['close'].diff()\n",
    "\n",
    "#% change from day previous (change / close)*100 -->float\n",
    "df['percent_change'] = (df['change'] / df['close'].shift(1))*100\n"
   ]
  },
  {
   "cell_type": "code",
   "execution_count": 30,
   "id": "ba1decb2-688d-4cc7-b7a6-e147abc43499",
   "metadata": {},
   "outputs": [
    {
     "name": "stdout",
     "output_type": "stream",
     "text": [
      "<class 'pandas.core.frame.DataFrame'>\n",
      "DatetimeIndex: 756 entries, 2022-08-18 to 2025-08-22\n",
      "Data columns (total 7 columns):\n",
      " #   Column          Non-Null Count  Dtype  \n",
      "---  ------          --------------  -----  \n",
      " 0   close           756 non-null    float64\n",
      " 1   high            756 non-null    float64\n",
      " 2   low             756 non-null    float64\n",
      " 3   open            756 non-null    float64\n",
      " 4   volume          756 non-null    int64  \n",
      " 5   change          755 non-null    float64\n",
      " 6   percent_change  755 non-null    float64\n",
      "dtypes: float64(6), int64(1)\n",
      "memory usage: 47.2 KB\n",
      "                 close        high         low        open    volume  \\\n",
      "datetime                                                               \n",
      "2025-08-18  643.299988  644.000000  642.179993  642.859985  43804900   \n",
      "2025-08-19  639.809998  644.109985  638.479980  643.119995  69750700   \n",
      "2025-08-20  638.109985  639.659973  632.950012  639.400024  88890300   \n",
      "2025-08-21  635.549988  637.969971  633.809998  636.280029  54805800   \n",
      "2025-08-22  645.309998  646.500000  637.250000  637.760010  84018300   \n",
      "\n",
      "              change  percent_change  \n",
      "datetime                              \n",
      "2025-08-18 -0.140015       -0.021760  \n",
      "2025-08-19 -3.489990       -0.542514  \n",
      "2025-08-20 -1.700012       -0.265706  \n",
      "2025-08-21 -2.559998       -0.401184  \n",
      "2025-08-22  9.760010        1.535679  \n"
     ]
    }
   ],
   "source": [
    "df.info()\n",
    "print(df.tail())"
   ]
  },
  {
   "cell_type": "code",
   "execution_count": 31,
   "id": "bbbb747d-8ac8-44a5-a807-9ea478df07dd",
   "metadata": {},
   "outputs": [],
   "source": [
    "#these changes allow us to use these features as guidence to our trading algorithms\n",
    "#maybe under certain conditions, e.g percentage change drop is more than -2%, then buy... etc etc"
   ]
  },
  {
   "cell_type": "code",
   "execution_count": null,
   "id": "ec0d32ee-e052-4b10-afdd-963cf4366486",
   "metadata": {},
   "outputs": [],
   "source": []
  }
 ],
 "metadata": {
  "kernelspec": {
   "display_name": "Python 3 (ipykernel)",
   "language": "python",
   "name": "python3"
  },
  "language_info": {
   "codemirror_mode": {
    "name": "ipython",
    "version": 3
   },
   "file_extension": ".py",
   "mimetype": "text/x-python",
   "name": "python",
   "nbconvert_exporter": "python",
   "pygments_lexer": "ipython3",
   "version": "3.11.13"
  }
 },
 "nbformat": 4,
 "nbformat_minor": 5
}
