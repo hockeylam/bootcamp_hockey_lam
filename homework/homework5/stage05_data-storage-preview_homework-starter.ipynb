{
 "cells": [
  {
   "cell_type": "code",
   "execution_count": 20,
   "id": "3458ec40-59bb-43ad-848f-7d64d1b3fc12",
   "metadata": {
    "scrolled": true
   },
   "outputs": [
    {
     "name": "stdout",
     "output_type": "stream",
     "text": [
      "CSV already exists at data/raw/data-csv.csv\n"
     ]
    }
   ],
   "source": [
    "# Generate demo CSV if not exists\n",
    "import os\n",
    "import pandas as pd\n",
    "from dotenv import load_dotenv\n",
    "\n",
    "load_dotenv()\n",
    "\n",
    "DATA_DIR_RAW = os.getenv(\"DATA_DIR_RAW\")\n",
    "DATA_DIR_PROCESSED = os.getenv(\"DATA_DIR_PROCESSED\")\n",
    "\n",
    "csv_path = 'data/raw/data-csv.csv'\n",
    "os.makedirs('data/raw', exist_ok=True)\n",
    "\n",
    "df = pd.DataFrame({\n",
    "        'price': [100, 200, 150, None, 250],\n",
    "        'date': ['2025-08-01','2025-08-02',None,'2025-08-04','2025-08-05'],\n",
    "        'category': ['Electronics','Furniture','Toys','Clothing',None]\n",
    "    })\n",
    "\n",
    "if not os.path.exists(csv_path):\n",
    "    df_demo = pd.DataFrame({\n",
    "        'price': [100, 200, 150, None, 250],\n",
    "        'date': ['2025-08-01','2025-08-02',None,'2025-08-04','2025-08-05'],\n",
    "        'category': ['Electronics','Furniture','Toys','Clothing',None]\n",
    "    })\n",
    "    df_demo.to_csv(csv_path, index=False)\n",
    "    print(f\"Demo CSV created at {csv_path}\")\n",
    "else:\n",
    "    print(f\"CSV already exists at {csv_path}\")"
   ]
  },
  {
   "cell_type": "code",
   "execution_count": 21,
   "id": "bab5f1f1-fb9e-40e1-b23c-37972ff0237e",
   "metadata": {},
   "outputs": [
    {
     "name": "stdout",
     "output_type": "stream",
     "text": [
      "Demo Parquet created at data/processed/data-parquet.parquet\n"
     ]
    }
   ],
   "source": [
    "parquet_path = 'data/processed/data-parquet.parquet'\n",
    "os.makedirs('data/processed', exist_ok=True)\n",
    "\n",
    "if not os.path.exists(parquet_path):\n",
    "    df_demo = pd.DataFrame({\n",
    "        'price': [100, 200, 150, None, 250],\n",
    "        'date': ['2025-08-01','2025-08-02',None,'2025-08-04','2025-08-05'],\n",
    "        'category': ['Electronics','Furniture','Toys','Clothing',None]\n",
    "    })\n",
    "    df_demo['date'] = pd.to_datetime(df_demo['date'])\n",
    "    df_demo.to_parquet(parquet_path, index=False)\n",
    "    print(f\"Demo Parquet created at {parquet_path}\")\n",
    "else:\n",
    "    print(f\"Parquet already exists at {parquet_path}\")"
   ]
  },
  {
   "cell_type": "code",
   "execution_count": 22,
   "id": "16c21885-2f48-40cf-b138-8028e43790f1",
   "metadata": {},
   "outputs": [
    {
     "name": "stdout",
     "output_type": "stream",
     "text": [
      "CSV validation: {'shape_equal': True, 'cols_present': True, 'price_is_numeric': True, 'date_is_datetime': True}\n",
      "Parquet validation: {'shape_equal': True, 'cols_present': True, 'price_is_numeric': True, 'date_is_datetime': True}\n"
     ]
    }
   ],
   "source": [
    "def validate_loaded(original: pd.DataFrame, reloaded: pd.DataFrame, cols=('date','category','price')):\n",
    "    checks = {\n",
    "        'shape_equal': original.shape == reloaded.shape,\n",
    "        'cols_present': all(c in reloaded.columns for c in cols)\n",
    "    }\n",
    "    # dtype sanity checks\n",
    "    if 'price' in reloaded.columns:\n",
    "        checks['price_is_numeric'] = pd.api.types.is_numeric_dtype(reloaded['price'])\n",
    "    if 'date' in reloaded.columns:\n",
    "        checks['date_is_datetime'] = pd.api.types.is_datetime64_any_dtype(reloaded['date'])\n",
    "    return checks\n",
    "\n",
    "df_csv = pd.read_csv(csv_path, parse_dates=['date'])\n",
    "print('CSV validation:', validate_loaded(df, df_csv))\n",
    "df_parq = pd.read_parquet(parquet_path)\n",
    "print('Parquet validation:', validate_loaded(df, df_parq))"
   ]
  },
  {
   "cell_type": "code",
   "execution_count": null,
   "id": "c524ec8b-5313-4501-8ba7-850b52a8973a",
   "metadata": {},
   "outputs": [],
   "source": [
    "def detect_format(path: Union[str, pathlib.Path]):\n",
    "    suf = str(path).lower()\n",
    "    if suf.endswith('.csv'): return 'csv'\n",
    "    if suf.endswith('.parquet') or suf.endswith('.pq') or suf.endswith('.parq'): return 'parquet'\n",
    "    raise ValueError('Unsupported format for: ' + str(path))\n",
    "\n",
    "def write_df(df, path):\n",
    "    path = pathlib.Path(path)\n",
    "    fmt = detect_format(path)\n",
    "    if fmt == 'csv':\n",
    "        df.to_csv(path, index=False)\n",
    "    elif fmt == 'parquet':\n",
    "        df.to_parquet(path)\n",
    "    return path\n",
    "\n",
    "def read_df(path):\n",
    "    path = pathlib.Path(path)\n",
    "    fmt = detect_format(path)\n",
    "    if fmt == 'csv':\n",
    "        return pd.read_csv(path, parse_dates=['date']) if 'date' in pd.read_csv(path, nrows=0).columns else pd.read_csv(path)\n",
    "    elif fmt == 'parquet':\n",
    "        return pd.read_parquet(path)"
   ]
  }
 ],
 "metadata": {
  "kernelspec": {
   "display_name": "Python 3 (ipykernel)",
   "language": "python",
   "name": "python3"
  },
  "language_info": {
   "codemirror_mode": {
    "name": "ipython",
    "version": 3
   },
   "file_extension": ".py",
   "mimetype": "text/x-python",
   "name": "python",
   "nbconvert_exporter": "python",
   "pygments_lexer": "ipython3",
   "version": "3.11.13"
  }
 },
 "nbformat": 4,
 "nbformat_minor": 5
}
