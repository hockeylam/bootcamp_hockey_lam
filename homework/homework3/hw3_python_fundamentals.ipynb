{
 "cells": [
  {
   "cell_type": "code",
   "execution_count": 50,
   "id": "761ad0fb-1e72-46c0-a590-2fe08ef7df2a",
   "metadata": {},
   "outputs": [],
   "source": [
    "import numpy as np\n",
    "import pandas as pd\n",
    "import matplotlib.pyplot as plt\n",
    "\n",
    "from src.utils import inspect"
   ]
  },
  {
   "cell_type": "code",
   "execution_count": 51,
   "id": "abe94314-7cb9-4276-ab43-04ccb708d948",
   "metadata": {},
   "outputs": [
    {
     "name": "stdout",
     "output_type": "stream",
     "text": [
      "<class 'pandas.core.frame.DataFrame'>\n",
      "RangeIndex: 10 entries, 0 to 9\n",
      "Data columns (total 3 columns):\n",
      " #   Column    Non-Null Count  Dtype \n",
      "---  ------    --------------  ----- \n",
      " 0   category  10 non-null     object\n",
      " 1   value     10 non-null     int64 \n",
      " 2   date      10 non-null     object\n",
      "dtypes: int64(1), object(2)\n",
      "memory usage: 372.0+ bytes\n",
      "  category  value        date\n",
      "0        A     10  2025-08-01\n",
      "1        B     15  2025-08-02\n",
      "2        A     12  2025-08-03\n",
      "3        B     18  2025-08-04\n",
      "4        C     25  2025-08-05 None            value\n",
      "count  10.000000\n",
      "mean   17.600000\n",
      "std     7.381659\n",
      "min    10.000000\n",
      "25%    12.250000\n",
      "50%    14.500000\n",
      "75%    23.250000\n",
      "max    30.000000\n"
     ]
    }
   ],
   "source": [
    "df = pd.read_csv('data/starter_data.csv')\n",
    "\n",
    "inspect(df)"
   ]
  },
  {
   "cell_type": "code",
   "execution_count": 44,
   "id": "b1d1814a-030c-4ea2-996f-9b1e1a102595",
   "metadata": {},
   "outputs": [
    {
     "name": "stdout",
     "output_type": "stream",
     "text": [
      "A   category  value        date\n",
      "0        A     10  2025-08-01\n",
      "2        A     12  2025-08-03\n",
      "6        A     11  2025-08-07\n",
      "9        A     13  2025-08-10\n",
      "B   category  value        date\n",
      "1        B     15  2025-08-02\n",
      "3        B     18  2025-08-04\n",
      "7        B     14  2025-08-08\n",
      "C   category  value        date\n",
      "4        C     25  2025-08-05\n",
      "5        C     30  2025-08-06\n",
      "8        C     28  2025-08-09\n"
     ]
    }
   ],
   "source": [
    "for value, date in df.groupby(\"category\"):\n",
    "    print(value, date)"
   ]
  },
  {
   "cell_type": "code",
   "execution_count": 47,
   "id": "1d9dbcd9-58bf-41e2-8d0f-c8bf2ef9cf77",
   "metadata": {},
   "outputs": [],
   "source": [
    "summary = df.groupby(\"category\").sum()\n",
    "summary.to_csv(\"data/processed/summary.csv\")"
   ]
  },
  {
   "cell_type": "code",
   "execution_count": null,
   "id": "b484e5d8-29d1-4c64-8803-c4e27181ab1a",
   "metadata": {},
   "outputs": [],
   "source": []
  }
 ],
 "metadata": {
  "kernelspec": {
   "display_name": "Python 3 (ipykernel)",
   "language": "python",
   "name": "python3"
  },
  "language_info": {
   "codemirror_mode": {
    "name": "ipython",
    "version": 3
   },
   "file_extension": ".py",
   "mimetype": "text/x-python",
   "name": "python",
   "nbconvert_exporter": "python",
   "pygments_lexer": "ipython3",
   "version": "3.11.13"
  }
 },
 "nbformat": 4,
 "nbformat_minor": 5
}
