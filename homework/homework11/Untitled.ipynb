{
 "cells": [
  {
   "cell_type": "code",
   "execution_count": 30,
   "id": "22e749cd-0ce0-46e6-ac4a-c36d2de79d8e",
   "metadata": {},
   "outputs": [],
   "source": [
    "# Setup\n",
    "import numpy as np\n",
    "import pandas as pd\n",
    "import matplotlib.pyplot as plt\n",
    "from pathlib import Path\n",
    "np.random.seed(111)\n",
    "plt.rcParams['figure.figsize'] = (8,5)"
   ]
  },
  {
   "cell_type": "code",
   "execution_count": 31,
   "id": "ec771b6d-e684-48cc-8376-3bcb127df4f9",
   "metadata": {},
   "outputs": [
    {
     "data": {
      "text/html": [
       "<div>\n",
       "<style scoped>\n",
       "    .dataframe tbody tr th:only-of-type {\n",
       "        vertical-align: middle;\n",
       "    }\n",
       "\n",
       "    .dataframe tbody tr th {\n",
       "        vertical-align: top;\n",
       "    }\n",
       "\n",
       "    .dataframe thead th {\n",
       "        text-align: right;\n",
       "    }\n",
       "</style>\n",
       "<table border=\"1\" class=\"dataframe\">\n",
       "  <thead>\n",
       "    <tr style=\"text-align: right;\">\n",
       "      <th></th>\n",
       "      <th>date</th>\n",
       "      <th>segment</th>\n",
       "      <th>x_feature</th>\n",
       "      <th>y_target</th>\n",
       "    </tr>\n",
       "  </thead>\n",
       "  <tbody>\n",
       "    <tr>\n",
       "      <th>0</th>\n",
       "      <td>2022-06-01</td>\n",
       "      <td>B</td>\n",
       "      <td>0.547868</td>\n",
       "      <td>2.107524</td>\n",
       "    </tr>\n",
       "    <tr>\n",
       "      <th>1</th>\n",
       "      <td>2022-06-02</td>\n",
       "      <td>A</td>\n",
       "      <td>0.974480</td>\n",
       "      <td>2.209111</td>\n",
       "    </tr>\n",
       "    <tr>\n",
       "      <th>2</th>\n",
       "      <td>2022-06-03</td>\n",
       "      <td>A</td>\n",
       "      <td>-0.012991</td>\n",
       "      <td>0.867315</td>\n",
       "    </tr>\n",
       "    <tr>\n",
       "      <th>3</th>\n",
       "      <td>2022-06-04</td>\n",
       "      <td>B</td>\n",
       "      <td>-1.012503</td>\n",
       "      <td>-1.741932</td>\n",
       "    </tr>\n",
       "    <tr>\n",
       "      <th>4</th>\n",
       "      <td>2022-06-05</td>\n",
       "      <td>A</td>\n",
       "      <td>0.642399</td>\n",
       "      <td>1.615007</td>\n",
       "    </tr>\n",
       "  </tbody>\n",
       "</table>\n",
       "</div>"
      ],
      "text/plain": [
       "        date segment  x_feature  y_target\n",
       "0 2022-06-01       B   0.547868  2.107524\n",
       "1 2022-06-02       A   0.974480  2.209111\n",
       "2 2022-06-03       A  -0.012991  0.867315\n",
       "3 2022-06-04       B  -1.012503 -1.741932\n",
       "4 2022-06-05       A   0.642399  1.615007"
      ]
     },
     "execution_count": 31,
     "metadata": {},
     "output_type": "execute_result"
    }
   ],
   "source": [
    "from pathlib import Path\n",
    "import pandas as pd\n",
    "import numpy as np\n",
    "\n",
    "data_dir = Path('data')\n",
    "data_dir.mkdir(exist_ok=True)\n",
    "\n",
    "csv_path = data_dir / 'data_stage11_eval_risk.csv'\n",
    "\n",
    "if csv_path.exists():\n",
    "    try:\n",
    "        df = pd.read_csv(csv_path, parse_dates=['date'])\n",
    "    except ValueError as e:\n",
    "        print(f\"Error reading CSV: {e}\\nRegenerating synthetic data...\")\n",
    "        regenerate = True\n",
    "    else:\n",
    "        regenerate = False\n",
    "else:\n",
    "    regenerate = True\n",
    "\n",
    "if regenerate:\n",
    "    n = 180\n",
    "    dates = pd.date_range('2022-06-01', periods=n, freq='D')\n",
    "    seg = np.random.choice(['A','B','C'], size=n, p=[0.5,0.3,0.2])\n",
    "    x = np.linspace(0, 9, n) + np.random.normal(0, 0.7, n)\n",
    "    y = 2.1 * x + 0.8 + np.random.standard_t(df=3, size=n) * 1.1\n",
    "    x[np.random.choice(np.arange(n), size=round(0.05*n), replace=False)] = np.nan\n",
    "    df = pd.DataFrame({'date': dates, 'segment': seg, 'x_feature': x, 'y_target': y})\n",
    "    df.to_csv(csv_path, index=False)\n",
    "\n",
    "df.head()\n"
   ]
  },
  {
   "cell_type": "code",
   "execution_count": 32,
   "id": "b03ce7e9-7f69-4399-aeea-6ca20cc92c34",
   "metadata": {},
   "outputs": [],
   "source": [
    "def mean_impute(a: np.ndarray) -> np.ndarray:\n",
    "    m = np.nanmean(a)\n",
    "    out = a.copy()\n",
    "    out[np.isnan(out)] = m\n",
    "    return out\n",
    "\n",
    "def median_impute(a: np.ndarray) -> np.ndarray:\n",
    "    m = np.nanmedian(a)\n",
    "    out = a.copy()\n",
    "    out[np.isnan(out)] = m\n",
    "    return out\n",
    "\n",
    "def high_impute(a: np.ndarray) -> np.ndarray:\n",
    "    m = np.nanmax(a)\n",
    "    out = a.copy()\n",
    "    out[np.isnan(out)] = m\n",
    "    return out\n",
    "\n",
    "def low_impute(a: np.ndarray) -> np.ndarray:\n",
    "    m = np.nanmin(a)\n",
    "    out = a.copy()\n",
    "    out[np.isnan(out)] = m\n",
    "    return out\n",
    "\n",
    "class SimpleLinReg:\n",
    "    def fit(self, X, y):\n",
    "        X1 = np.c_[np.ones(len(X)), X.ravel()]\n",
    "        beta = np.linalg.pinv(X1) @ y\n",
    "        self.intercept_, self.coef_ = float(beta[0]), np.array([float(beta[1])])\n",
    "        return self\n",
    "    def predict(self, X):\n",
    "        return self.intercept_ + self.coef_[0] * X.ravel()\n",
    "\n",
    "def mae(y_true, y_pred):\n",
    "    return float(np.mean(np.abs(y_true - y_pred)))\n",
    "\n",
    "def bootstrap_metric(y_true, y_pred, fn, n_boot=500, seed=111, alpha=0.05):\n",
    "    rng = np.random.default_rng(seed)\n",
    "    idx = np.arange(len(y_true))\n",
    "    stats = []\n",
    "    for _ in range(n_boot):\n",
    "        b = rng.choice(idx, size=len(idx), replace=True)\n",
    "        stats.append(fn(y_true[b], y_pred[b]))\n",
    "    lo, hi = np.percentile(stats, [100*alpha/2, 100*(1-alpha/2)])\n",
    "    return {'mean': float(np.mean(stats)), 'lo': float(lo), 'hi': float(hi)}\n",
    "\n",
    "def fit_fn(X, y):\n",
    "    return SimpleLinReg().fit(X, y)\n",
    "def pred_fn(model, X):\n",
    "    return model.predict(X)"
   ]
  },
  {
   "cell_type": "code",
   "execution_count": 33,
   "id": "160457bb-046c-4610-9a8e-3468a575dc70",
   "metadata": {},
   "outputs": [
    {
     "data": {
      "text/plain": [
       "1.278316828696948"
      ]
     },
     "execution_count": 33,
     "metadata": {},
     "output_type": "execute_result"
    }
   ],
   "source": [
    "X_raw = df['x_feature'].values\n",
    "y = df['y_target'].values\n",
    "X_base = mean_impute(X_raw)\n",
    "model = fit_fn(X_base.reshape(-1,1), y)\n",
    "y_hat = model.predict(X_base.reshape(-1,1))\n",
    "df['x_imputed'] = X_base\n",
    "base_mae = mae(y, y_hat)\n",
    "base_mae"
   ]
  },
  {
   "cell_type": "code",
   "execution_count": 34,
   "id": "24025c7d-28c1-447d-9679-2c59af85514c",
   "metadata": {},
   "outputs": [
    {
     "data": {
      "image/png": "[encoded data removed]",
      "text/plain": [
       "<Figure size 800x500 with 1 Axes>"
      ]
     },
     "metadata": {},
     "output_type": "display_data"
    }
   ],
   "source": [
    "resid = y - y_hat\n",
    "sigma_hat = np.std(resid, ddof=1)\n",
    "n = len(y)\n",
    "se_mean = sigma_hat/np.sqrt(n)\n",
    "x_grid = np.linspace(np.nanmin(X_base), np.nanmax(X_base), 120).reshape(-1,1)\n",
    "pred_line = model.predict(x_grid)\n",
    "gauss_lo = pred_line - 1.96*se_mean\n",
    "gauss_hi = pred_line + 1.96*se_mean\n",
    "\n",
    "def bootstrap_predictions(X, y, x_grid, n_boot=500, seed=111):\n",
    "    rng = np.random.default_rng(seed)\n",
    "    preds = []\n",
    "    idx = np.arange(len(y))\n",
    "    for _ in range(n_boot):\n",
    "        b = rng.choice(idx, size=len(idx), replace=True)\n",
    "        m = fit_fn(X[b].reshape(-1,1), y[b])\n",
    "        preds.append(m.predict(x_grid))\n",
    "    P = np.vstack(preds)\n",
    "    return P.mean(axis=0), np.percentile(P, 2.5, axis=0), np.percentile(P, 97.5, axis=0)\n",
    "\n",
    "m_boot, lo_boot, hi_boot = bootstrap_predictions(X_base, y, x_grid, n_boot=600)\n",
    "\n",
    "plt.figure()\n",
    "plt.scatter(X_base, y, alpha=0.25)\n",
    "plt.plot(x_grid, pred_line, label='prediction')\n",
    "plt.fill_between(x_grid.ravel(), gauss_lo, gauss_hi, alpha=0.25, label='Gaussian CI')\n",
    "plt.fill_between(x_grid.ravel(), lo_boot, hi_boot, alpha=0.25, label='Bootstrap CI')\n",
    "plt.legend(); plt.title('Parametric vs Bootstrap CI'); plt.show()"
   ]
  },
  {
   "cell_type": "code",
   "execution_count": 35,
   "id": "1e145dce-1201-4bdd-973c-adcb5dd41708",
   "metadata": {},
   "outputs": [
    {
     "data": {
      "text/html": [
       "<div>\n",
       "<style scoped>\n",
       "    .dataframe tbody tr th:only-of-type {\n",
       "        vertical-align: middle;\n",
       "    }\n",
       "\n",
       "    .dataframe tbody tr th {\n",
       "        vertical-align: top;\n",
       "    }\n",
       "\n",
       "    .dataframe thead th {\n",
       "        text-align: right;\n",
       "    }\n",
       "</style>\n",
       "<table border=\"1\" class=\"dataframe\">\n",
       "  <thead>\n",
       "    <tr style=\"text-align: right;\">\n",
       "      <th></th>\n",
       "      <th>scenario</th>\n",
       "      <th>mae</th>\n",
       "      <th>slope</th>\n",
       "      <th>intercept</th>\n",
       "    </tr>\n",
       "  </thead>\n",
       "  <tbody>\n",
       "    <tr>\n",
       "      <th>0</th>\n",
       "      <td>mean_impute</td>\n",
       "      <td>1.278317</td>\n",
       "      <td>2.130236</td>\n",
       "      <td>0.711523</td>\n",
       "    </tr>\n",
       "    <tr>\n",
       "      <th>1</th>\n",
       "      <td>high_impute</td>\n",
       "      <td>1.739166</td>\n",
       "      <td>1.818869</td>\n",
       "      <td>1.619725</td>\n",
       "    </tr>\n",
       "    <tr>\n",
       "      <th>2</th>\n",
       "      <td>low_impute</td>\n",
       "      <td>1.945972</td>\n",
       "      <td>1.732063</td>\n",
       "      <td>2.959271</td>\n",
       "    </tr>\n",
       "  </tbody>\n",
       "</table>\n",
       "</div>"
      ],
      "text/plain": [
       "      scenario       mae     slope  intercept\n",
       "0  mean_impute  1.278317  2.130236   0.711523\n",
       "1  high_impute  1.739166  1.818869   1.619725\n",
       "2   low_impute  1.945972  1.732063   2.959271"
      ]
     },
     "execution_count": 35,
     "metadata": {},
     "output_type": "execute_result"
    }
   ],
   "source": [
    "scenarios = {\n",
    "    'mean_impute': mean_impute,\n",
    "    'high_impute': high_impute,\n",
    "    'low_impute': low_impute\n",
    "}\n",
    "\n",
    "results = []\n",
    "for name, fn in scenarios.items():\n",
    "    if name == 'drop_missing' and np.isnan(X_raw).any():\n",
    "        mask = ~np.isnan(X_raw)\n",
    "        Xs, ys = X_raw[mask], y[mask]\n",
    "        m = fit_fn(Xs.reshape(-1,1), ys)\n",
    "        yh = m.predict(Xs.reshape(-1,1))\n",
    "    else:\n",
    "        Xs = fn(X_raw)\n",
    "        m = fit_fn(Xs.reshape(-1,1), y)\n",
    "        yh = m.predict(Xs.reshape(-1,1))\n",
    "    results.append({'scenario': name, 'mae': mae(y[:len(yh)], yh), 'slope': m.coef_[0], 'intercept': m.intercept_})\n",
    "sens = pd.DataFrame(results); sens"
   ]
  },
  {
   "cell_type": "code",
   "execution_count": 36,
   "id": "658600a7-44d2-45d3-ba87-2d676eb98b2b",
   "metadata": {},
   "outputs": [
    {
     "data": {
      "text/html": [
       "<div>\n",
       "<style scoped>\n",
       "    .dataframe tbody tr th:only-of-type {\n",
       "        vertical-align: middle;\n",
       "    }\n",
       "\n",
       "    .dataframe tbody tr th {\n",
       "        vertical-align: top;\n",
       "    }\n",
       "\n",
       "    .dataframe thead th {\n",
       "        text-align: right;\n",
       "    }\n",
       "</style>\n",
       "<table border=\"1\" class=\"dataframe\">\n",
       "  <thead>\n",
       "    <tr style=\"text-align: right;\">\n",
       "      <th></th>\n",
       "      <th>mean</th>\n",
       "      <th>std</th>\n",
       "      <th>median</th>\n",
       "      <th>count</th>\n",
       "    </tr>\n",
       "    <tr>\n",
       "      <th>segment</th>\n",
       "      <th></th>\n",
       "      <th></th>\n",
       "      <th></th>\n",
       "      <th></th>\n",
       "    </tr>\n",
       "  </thead>\n",
       "  <tbody>\n",
       "    <tr>\n",
       "      <th>A</th>\n",
       "      <td>-0.066306</td>\n",
       "      <td>1.827501</td>\n",
       "      <td>-0.235648</td>\n",
       "      <td>94</td>\n",
       "    </tr>\n",
       "    <tr>\n",
       "      <th>B</th>\n",
       "      <td>0.294967</td>\n",
       "      <td>1.707514</td>\n",
       "      <td>-0.077390</td>\n",
       "      <td>41</td>\n",
       "    </tr>\n",
       "    <tr>\n",
       "      <th>C</th>\n",
       "      <td>-0.130242</td>\n",
       "      <td>2.813215</td>\n",
       "      <td>-0.140354</td>\n",
       "      <td>45</td>\n",
       "    </tr>\n",
       "  </tbody>\n",
       "</table>\n",
       "</div>"
      ],
      "text/plain": [
       "             mean       std    median  count\n",
       "segment                                     \n",
       "A       -0.066306  1.827501 -0.235648     94\n",
       "B        0.294967  1.707514 -0.077390     41\n",
       "C       -0.130242  2.813215 -0.140354     45"
      ]
     },
     "execution_count": 36,
     "metadata": {},
     "output_type": "execute_result"
    }
   ],
   "source": [
    "model_base = fit_fn(X_base.reshape(-1,1), y)\n",
    "df2 = df.copy()\n",
    "df2['y_hat'] = model_base.predict(df2['x_imputed'].values.reshape(-1,1))\n",
    "df2['resid'] = df2['y_target'] - df2['y_hat']\n",
    "g = df2.groupby('segment')['resid'].agg(['mean','std','median','count'])\n",
    "g"
   ]
  },
  {
   "cell_type": "code",
   "execution_count": 37,
   "id": "a581c703-53cf-4656-9bb1-49f76fc130d3",
   "metadata": {},
   "outputs": [
    {
     "data": {
      "image/png": "[encoded data removed]",
      "text/plain": [
       "<Figure size 800x500 with 1 Axes>"
      ]
     },
     "metadata": {},
     "output_type": "display_data"
    }
   ],
   "source": [
    "plt.figure()\n",
    "grouped = df2.groupby('segment')['resid']\n",
    "data = [s.values for _, s in grouped]\n",
    "labels = list(grouped.groups.keys())\n",
    "\n",
    "plt.boxplot(data, tick_labels=labels)\n",
    "plt.title('Residuals by Segment')\n",
    "plt.show()"
   ]
  },
  {
   "cell_type": "code",
   "execution_count": 38,
   "id": "47ccd124-e87d-4bee-a4b1-7724ead0b6af",
   "metadata": {},
   "outputs": [
    {
     "data": {
      "text/plain": [
       "{'mean': 1.2714062440720517,\n",
       " 'lo': 1.0550822262814064,\n",
       " 'hi': 1.5309979723635576}"
      ]
     },
     "execution_count": 38,
     "metadata": {},
     "output_type": "execute_result"
    }
   ],
   "source": [
    "bm = bootstrap_metric(y, df2['y_hat'].values, mae, n_boot=600)\n",
    "bm"
   ]
  },
  {
   "cell_type": "code",
   "execution_count": null,
   "id": "eb42b5bf-63d6-4587-80ac-ec1908abf8be",
   "metadata": {},
   "outputs": [],
   "source": []
  }
 ],
 "metadata": {
  "kernelspec": {
   "display_name": "Python 3 (ipykernel)",
   "language": "python",
   "name": "python3"
  },
  "language_info": {
   "codemirror_mode": {
    "name": "ipython",
    "version": 3
   },
   "file_extension": ".py",
   "mimetype": "text/x-python",
   "name": "python",
   "nbconvert_exporter": "python",
   "pygments_lexer": "ipython3",
   "version": "3.13.5"
  }
 },
 "nbformat": 4,
 "nbformat_minor": 5
}
